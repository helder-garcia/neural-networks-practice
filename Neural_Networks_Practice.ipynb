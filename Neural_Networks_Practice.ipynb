{
  "nbformat": 4,
  "nbformat_minor": 0,
  "metadata": {
    "colab": {
      "name": "Neural-Networks-Practice.ipynb",
      "provenance": [],
      "collapsed_sections": [],
      "authorship_tag": "ABX9TyPEyZp8LVnNrKkzBYGA0mE7",
      "include_colab_link": true
    },
    "kernelspec": {
      "name": "python3",
      "display_name": "Python 3"
    },
    "accelerator": "GPU"
  },
  "cells": [
    {
      "cell_type": "markdown",
      "metadata": {
        "id": "view-in-github",
        "colab_type": "text"
      },
      "source": [
        "<a href=\"https://colab.research.google.com/github/helder-garcia/neural-networks-practice/blob/main/Neural_Networks_Practice.ipynb\" target=\"_parent\"><img src=\"https://colab.research.google.com/assets/colab-badge.svg\" alt=\"Open In Colab\"/></a>"
      ]
    },
    {
      "cell_type": "code",
      "metadata": {
        "id": "HfYj9H5mqgYK",
        "colab": {
          "base_uri": "https://localhost:8080/"
        },
        "outputId": "8bbdf8bf-e813-4194-9ce9-a43c41fdaa8e"
      },
      "source": [
        "import torch\n",
        "from torch import nn\n",
        "if torch.cuda.is_available():\n",
        "  device = torch.device('cuda')\n",
        "else:\n",
        "  device = torch.device('cpu')\n",
        "print(device)"
      ],
      "execution_count": 2,
      "outputs": [
        {
          "output_type": "stream",
          "text": [
            "cuda\n"
          ],
          "name": "stdout"
        }
      ]
    },
    {
      "cell_type": "code",
      "metadata": {
        "id": "yzZC5jeFs9qP"
      },
      "source": [
        "from sklearn import datasets\n",
        "wine = datasets.load_wine()\n",
        "data = wine.data\n",
        "target = wine.target"
      ],
      "execution_count": 3,
      "outputs": []
    },
    {
      "cell_type": "code",
      "metadata": {
        "colab": {
          "base_uri": "https://localhost:8080/"
        },
        "id": "cpa4hqdXtysp",
        "outputId": "e14ced50-b14c-47c4-9840-0265c3cf2c4d"
      },
      "source": [
        "print(target.shape)"
      ],
      "execution_count": 7,
      "outputs": [
        {
          "output_type": "stream",
          "text": [
            "(178,)\n"
          ],
          "name": "stdout"
        }
      ]
    },
    {
      "cell_type": "code",
      "metadata": {
        "colab": {
          "base_uri": "https://localhost:8080/"
        },
        "id": "bKtzmcapuVZj",
        "outputId": "49df2498-6cbb-4b73-e02b-c1e671541e0a"
      },
      "source": [
        "print(wine.feature_names)"
      ],
      "execution_count": 8,
      "outputs": [
        {
          "output_type": "stream",
          "text": [
            "['alcohol', 'malic_acid', 'ash', 'alcalinity_of_ash', 'magnesium', 'total_phenols', 'flavanoids', 'nonflavanoid_phenols', 'proanthocyanins', 'color_intensity', 'hue', 'od280/od315_of_diluted_wines', 'proline']\n"
          ],
          "name": "stdout"
        }
      ]
    },
    {
      "cell_type": "code",
      "metadata": {
        "colab": {
          "base_uri": "https://localhost:8080/"
        },
        "id": "OgEeO4DQuZ2F",
        "outputId": "0094e31b-75eb-4c28-8af4-290fb216bd3a"
      },
      "source": [
        "print(wine.target_names)"
      ],
      "execution_count": 9,
      "outputs": [
        {
          "output_type": "stream",
          "text": [
            "['class_0' 'class_1' 'class_2']\n"
          ],
          "name": "stdout"
        }
      ]
    },
    {
      "cell_type": "code",
      "metadata": {
        "id": "ZI7UvaeBu1Fc"
      },
      "source": [
        "class wineClassifier(nn.Module):\n",
        "  def __init__(self, input_size, hidden_size, out_size):\n",
        "    super(wineClassifier, self).__init__()\n",
        "    self.hidden  = nn.Linear(input_size, hidden_size)\n",
        "    self.relu    = nn.ReLU()\n",
        "    self.out     = nn.Linear(hidden_size, out_size)\n",
        "    self.softmax = nn.Softmax()\n",
        "\n",
        "  def forward(self, X):\n",
        "    feature = self.relu(self.hidden(X))\n",
        "    output  = self.softmax(self.out(feature))\n",
        "    return output\n",
        "\n",
        "input_size  = data.shape[1]\n",
        "hidden_size = 32\n",
        "out_size    = len(wine.target_names)\n",
        "net = wineClassifier(input_size, hidden_size, out_size).to(device)"
      ],
      "execution_count": 10,
      "outputs": []
    },
    {
      "cell_type": "code",
      "metadata": {
        "colab": {
          "base_uri": "https://localhost:8080/"
        },
        "id": "1NtTi0wMzfop",
        "outputId": "78557c8f-3f50-4a32-8dcd-d90213949acc"
      },
      "source": [
        "print(net)"
      ],
      "execution_count": 11,
      "outputs": [
        {
          "output_type": "stream",
          "text": [
            "wineClassifier(\n",
            "  (hidden): Linear(in_features=13, out_features=32, bias=True)\n",
            "  (relu): ReLU()\n",
            "  (out): Linear(in_features=32, out_features=3, bias=True)\n",
            "  (softmax): Softmax(dim=None)\n",
            ")\n"
          ],
          "name": "stdout"
        }
      ]
    }
  ]
}