{
  "nbformat": 4,
  "nbformat_minor": 0,
  "metadata": {
    "colab": {
      "name": "Neural-Networks-Regression.ipynb",
      "provenance": [],
      "collapsed_sections": [],
      "authorship_tag": "ABX9TyPXPjy0KDBP4o8YjkK+vfLA",
      "include_colab_link": true
    },
    "kernelspec": {
      "name": "python3",
      "display_name": "Python 3"
    }
  },
  "cells": [
    {
      "cell_type": "markdown",
      "metadata": {
        "id": "view-in-github",
        "colab_type": "text"
      },
      "source": [
        "<a href=\"https://colab.research.google.com/github/helder-garcia/neural-networks-practice/blob/main/Neural_Networks_Regression.ipynb\" target=\"_parent\"><img src=\"https://colab.research.google.com/assets/colab-badge.svg\" alt=\"Open In Colab\"/></a>"
      ]
    },
    {
      "cell_type": "code",
      "metadata": {
        "id": "Wqrwxz_77o_l"
      },
      "source": [
        "import torch\n",
        "from torch import nn\n",
        "if torch.cuda.is_available():\n",
        "  device = torch.device('cuda')\n",
        "else:\n",
        "  device = torch.device('cpu')\n",
        "print(device)"
      ],
      "execution_count": null,
      "outputs": []
    },
    {
      "cell_type": "code",
      "metadata": {
        "id": "ZCht5rC17v29"
      },
      "source": [
        "import torch\n",
        "from torch import nn\n",
        "if torch.cuda.is_available():\n",
        "  device = torch.device('cuda')\n",
        "else:\n",
        "  device = torch.device('cpu')\n",
        "print(device)"
      ],
      "execution_count": null,
      "outputs": []
    },
    {
      "cell_type": "code",
      "metadata": {
        "id": "dVknQRZqUBjj"
      },
      "source": [
        "from sklearn import datasets\n",
        "diabetes = datasets.load_diabetes()\n",
        "data = diabetes.data\n",
        "target = diabetes.target"
      ],
      "execution_count": 2,
      "outputs": []
    },
    {
      "cell_type": "code",
      "metadata": {
        "id": "pBhlXomEU0Vf"
      },
      "source": [
        "class diabetesRegression(nn.Module):\n",
        "  def __init__(self, input_size, hidden_size, out_size):\n",
        "    super(diabetesRegression, self).__init__()\n",
        "    self.hidden  = nn.Linear(input_size, hidden_size)\n",
        "    self.relu    = nn.ReLU()\n",
        "    self.out     = nn.Linear(hidden_size, out_size)\n",
        "    self.softmax = nn.Softmax(dim=-1)\n",
        "\n",
        "  def forward(self, X):\n",
        "    feature = self.relu(self.hidden(X))\n",
        "    output  = self.softmax(self.out(feature))\n",
        "    return output\n",
        "\n",
        "input_size  = data.shape[1]\n",
        "hidden_size = 32\n",
        "out_size    = 1\n",
        "net = diabetesRegression(input_size, hidden_size, out_size).to(device)"
      ],
      "execution_count": 15,
      "outputs": []
    },
    {
      "cell_type": "code",
      "metadata": {
        "id": "MFQk7KlGWINH"
      },
      "source": [
        "criterion = nn.MSELoss().to(device)\n",
        "xTensor = torch.from_numpy(data).float().to(device)\n",
        "yTensor = torch.from_numpy(target).float().to(device)"
      ],
      "execution_count": 16,
      "outputs": []
    },
    {
      "cell_type": "code",
      "metadata": {
        "id": "rjSaa7NDXoPG"
      },
      "source": [
        "pred = net(xTensor)\n",
        "loss = criterion(pred.squeeze(), yTensor)"
      ],
      "execution_count": 17,
      "outputs": []
    },
    {
      "cell_type": "code",
      "metadata": {
        "colab": {
          "base_uri": "https://localhost:8080/"
        },
        "id": "Hm7ZtQjuYGAl",
        "outputId": "a4347721-f629-4527-f48c-29472c265392"
      },
      "source": [
        "print(loss.data)"
      ],
      "execution_count": 18,
      "outputs": [
        {
          "output_type": "stream",
          "text": [
            "tensor(28771.2148)\n"
          ],
          "name": "stdout"
        }
      ]
    }
  ]
}